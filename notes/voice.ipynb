{
 "cells": [
  {
   "cell_type": "markdown",
   "id": "4dd0a4b2",
   "metadata": {},
   "source": [
    "你还可以给动画过程添加话外音: [voiceover 官方文档](https://docs.manim.community/en/stable/guides/add_voiceovers.html)"
   ]
  },
  {
   "cell_type": "code",
   "execution_count": null,
   "id": "779bf7d4-6f70-4b7b-a472-fc4d2b9ee31e",
   "metadata": {},
   "outputs": [],
   "source": [
    "from manim import *\n",
    "\n",
    "config.media_width = \"75%\"\n",
    "config.verbosity = \"WARNING\""
   ]
  },
  {
   "cell_type": "code",
   "execution_count": null,
   "id": "0a8e2685",
   "metadata": {},
   "outputs": [],
   "source": [
    "%%manim -qm GTTSExample\n",
    "\n",
    "from manim_voiceover import VoiceoverScene\n",
    "from manim_voiceover.services.gtts import GTTSService\n",
    "\n",
    "class GTTSExample(VoiceoverScene):\n",
    "    def construct(self):\n",
    "        self.set_speech_service(GTTSService(lang=\"en\", tld=\"com\"))\n",
    "\n",
    "        circle = Circle()\n",
    "        square = Square().shift(2 * RIGHT)\n",
    "\n",
    "        with self.voiceover(text=\"This circle is drawn as I speak.\") as tracker:\n",
    "            self.play(Create(circle), run_time=tracker.duration)\n",
    "\n",
    "        with self.voiceover(text=\"Let's shift it to the left 2 units.\") as tracker:\n",
    "            self.play(circle.animate.shift(2 * LEFT), run_time=tracker.duration)\n",
    "\n",
    "        with self.voiceover(text=\"Now, let's transform it into a square.\") as tracker:\n",
    "            self.play(Transform(circle, square), run_time=tracker.duration)\n",
    "\n",
    "        with self.voiceover(text=\"Thank you for watching.\"):\n",
    "            self.play(Uncreate(circle))\n",
    "\n",
    "        self.wait()"
   ]
  },
  {
   "cell_type": "code",
   "execution_count": null,
   "id": "e6e13cb7",
   "metadata": {},
   "outputs": [],
   "source": [
    "%%manim -qm GTTSExampleVietnamese\n",
    "\n",
    "# Use GTTS with another language:\n",
    "class GTTSExampleVietnamese(VoiceoverScene):\n",
    "    def construct(self):\n",
    "        # Set the lang argument to another language code.\n",
    "        self.set_speech_service(GTTSService(lang=\"vi\"))\n",
    "\n",
    "        circle = Circle()\n",
    "        square = Square().shift(2 * RIGHT)\n",
    "\n",
    "        with self.voiceover(text=\"Vòng tròn này được vẽ khi tôi nói.\") as tracker:\n",
    "            self.play(Create(circle), run_time=tracker.duration)\n",
    "\n",
    "        with self.voiceover(text=\"Hãy chuyển nó sang bên trái 2 đơn vị.\") as tracker:\n",
    "            self.play(circle.animate.shift(2 * LEFT), run_time=tracker.duration)\n",
    "\n",
    "        with self.voiceover(\n",
    "            text=\"Bây giờ hãy biến nó thành một hình vuông.\"\n",
    "        ) as tracker:\n",
    "            self.play(Transform(circle, square), run_time=tracker.duration)\n",
    "\n",
    "        with self.voiceover(text=\"Cảm ơn vì đã xem.\"):\n",
    "            self.play(Uncreate(circle))\n",
    "\n",
    "        self.wait()"
   ]
  }
 ],
 "metadata": {
  "kernelspec": {
   "display_name": "Python 3 (ipykernel)",
   "language": "python",
   "name": "python3"
  },
  "language_info": {
   "codemirror_mode": {
    "name": "ipython",
    "version": 3
   },
   "file_extension": ".py",
   "mimetype": "text/x-python",
   "name": "python",
   "nbconvert_exporter": "python",
   "pygments_lexer": "ipython3",
   "version": "3.11.9"
  }
 },
 "nbformat": 4,
 "nbformat_minor": 5
}
